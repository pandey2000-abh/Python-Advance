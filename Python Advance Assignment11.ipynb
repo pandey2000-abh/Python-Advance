{
 "cells": [
  {
   "cell_type": "markdown",
   "id": "6d1a5e5e",
   "metadata": {},
   "source": [
    "Q1. What is the concept of a metaclass?"
   ]
  },
  {
   "cell_type": "markdown",
   "id": "faa8302f",
   "metadata": {},
   "source": [
    "Ans: Metaclass in Python is a class of a class that defines how a class behaves. A class is itself a instance of Metaclass, and any Instance of Class in Python is an Instance of type metaclass. E.g. Type of of int, str, float, list, tuple and many more is of metaclass type."
   ]
  },
  {
   "cell_type": "markdown",
   "id": "f4fa7efb",
   "metadata": {},
   "source": [
    "Q2. What is the best way to declare a class's metaclass?"
   ]
  },
  {
   "cell_type": "markdown",
   "id": "7bf32f34",
   "metadata": {},
   "source": [
    "Ans: A way to declare a class’ metaclass is by using metaclass keyword in class definition."
   ]
  },
  {
   "cell_type": "code",
   "execution_count": 1,
   "id": "d5ea6196",
   "metadata": {},
   "outputs": [
    {
     "name": "stdout",
     "output_type": "stream",
     "text": [
      "<class 'type'>\n",
      "<class '__main__.meta'>\n"
     ]
    }
   ],
   "source": [
    "class meta(type):\n",
    "    pass\n",
    "class class_meta(metaclass=meta):\n",
    "    pass\n",
    "print(type(meta))\n",
    "print(type(class_meta))"
   ]
  },
  {
   "cell_type": "markdown",
   "id": "30f0f893",
   "metadata": {},
   "source": [
    "Q3. How do class decorators overlap with metaclasses for handling classes ?"
   ]
  },
  {
   "cell_type": "markdown",
   "id": "2190afae",
   "metadata": {},
   "source": [
    "Ans: Anything you can do with a class decorator, you can of course do with a custom metaclasses (just apply the functionality of the \"decorator function\", i.e., the one that takes a class object and modifies it, in the course of the metaclass's __new__ or __init__ that make the class object!)."
   ]
  },
  {
   "cell_type": "markdown",
   "id": "56ea1046",
   "metadata": {},
   "source": [
    "Q4. How do class decorators overlap with metaclasses for handling instances?"
   ]
  },
  {
   "cell_type": "markdown",
   "id": "ed6fbffa",
   "metadata": {},
   "source": [
    "Ans: Anything you can do with a class decorator, you can of course do with a custom metaclass (just apply the functionality of the \"decorator function\", i.e., the one that takes a class object and modifies it, in the course of the metaclass's __new__ or __init__ that make the class object!)."
   ]
  },
  {
   "cell_type": "code",
   "execution_count": null,
   "id": "36343801",
   "metadata": {},
   "outputs": [],
   "source": []
  }
 ],
 "metadata": {
  "kernelspec": {
   "display_name": "Python 3 (ipykernel)",
   "language": "python",
   "name": "python3"
  },
  "language_info": {
   "codemirror_mode": {
    "name": "ipython",
    "version": 3
   },
   "file_extension": ".py",
   "mimetype": "text/x-python",
   "name": "python",
   "nbconvert_exporter": "python",
   "pygments_lexer": "ipython3",
   "version": "3.9.7"
  }
 },
 "nbformat": 4,
 "nbformat_minor": 5
}
