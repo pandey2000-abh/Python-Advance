{
 "cells": [
  {
   "cell_type": "markdown",
   "id": "180dc06c",
   "metadata": {},
   "source": [
    "Q1. In Python 3.X, what are the names and functions of string object types?"
   ]
  },
  {
   "cell_type": "code",
   "execution_count": null,
   "id": "7a324aba",
   "metadata": {},
   "outputs": [],
   "source": [
    "Ans: The following are the names and functions of string object types in Python 3.X\n",
    "\n",
    "1. <stirng>.isdecimal() -> Returns True if all characters in      a string are decimal.\n",
    "2. <string>.isalnum() -> Returns True if all characters in        the string are AlphaNumeric.\n",
    "3. <string>.istitle() -> Returns True if first character in      a string is in Uppercase.\n",
    "4. <string>.partition(<sub_string>) -> Splits string at        first occurance of sub string and returns a tuple of 3      elements.\n",
    "5. <string>.rpartition(<sub_string>) -> Splits string at        last occurance of sub string and returns a tuple of 3        elements.\n",
    "6. <string>.isidentifier() -> Returns True if give string is a valid identifier name.\n",
    "7. len(<string>) -> Returns the length of the given string.\n",
    "8. <string>.index(<sub_string>) -> Returns the lowest index of substring if substring is found in the string.\n",
    "9. <string>.rindex(<sub_string>) -> Returns the highest index of substring if substring is found in the string.\n",
    "10. max(<string>) -> Returns the highest Alphabetical Character in the string as per ASCII.\n",
    "11. min(<string>) -> Returns the lowest Alphabetical Character in the string as per ASCII.\n",
    "12. <string>.splitlines() -> Returns a list of lines in the string.\n",
    "13. <string>.capitalize() -> Returns the string with first character capitalized.\n",
    "14. <string>.upper() -> Returns the string with all characters in uppercase.\n",
    "15. <string>.lower() -> Returns the string with all characters in lowercase\n",
    "16. <string>.casefold() -> Returns the string in lowercase which can be used for caseless comparisions.\n",
    "17. <string>.expandtabs(no_of_spaces) -> Replaces tabs in a string with specified no of spaces default is 8\n",
    "18. <string>.find(<sub_string>) -> Returns lowest index of substring if substring is found in the string else returns -1.\n",
    "19. <string>.rfind(<sub_string>) -> Returns highest index of substring if substring is found in the string else returns -1.\n",
    "20. <string>.count(<char>) -> Returns the no of occurances of the char in the given string.\n",
    "21. <string>.split(<sep>) -> Returns list of words seperated by given sep else seperated by whitespace.\n",
    "22. <string>.rsplit(<sep>) -> Returns list of words seperated by given sep else seperated by whitespace scanning from end.\n",
    "23. <string>.lstrip() -> Returns a copy of where leading whitespaces are removed.\n",
    "24. <string>.rstrip() -> Returns a copy of where trailed whitespaces are removed.\n",
    "25. <string>.strip() -> Returns a copy of where both leading and trailing whitespaces are removed.\n",
    "26. <string>.swapcase() -> Swaps lowercase characters with uppercase and vice versa.\n",
    "27. <sep>.join(<list>) -> Concatenates a list or tuple of words with intervening occuernces of sep.\n",
    "28. <string>.translate(<mapping_table>) -> translates the characters using table.\n",
    "29. <string>.maketrans(<dict>) -> Creating a mapping translation tbale usable for <string>.translate(<mapping_table>)\n",
    "30. <string>.replace(<char_1>,<char_2>) -> Replace all occurances of char_1 with char_2 in string.\n",
    "31. <string>.encode() -> Encodes string into any encoding supported by python. Default encoding is UTF-8.\n",
    "32. <string>.ljust(<no_of_spaces>) -> Left-justify in a field of given width.\n",
    "33. <string>.rjust(<no_of_spaces>) -> Right-justify in a field of given width.\n",
    "34. <string>.center(<no_of_spaces>) -> Center-justify in a field of given width.\n",
    "35. <stirng>.zfill(<length>) -> Zfill adds zeros to the begining of string until the specified length is reached."
   ]
  },
  {
   "cell_type": "code",
   "execution_count": 1,
   "id": "5041200c",
   "metadata": {},
   "outputs": [
    {
     "name": "stdout",
     "output_type": "stream",
     "text": [
      "True\n",
      "True\n",
      "False\n",
      "('\"I could eat ', 'bananas', ' all day, bananas are my favorite fruit\"')\n",
      "('\"I could eat bananas all day, ', 'bananas', ' are my favorite fruit\"')\n",
      "True\n",
      "17\n",
      "1\n",
      "6\n",
      "t\n",
      "A\n",
      "['Ineuron ', ' Full Stack ', ' Data Science ', ' Course ']\n",
      "Finding nemo\n",
      "DATAPIPELINES\n",
      "mlops\n",
      "doloris jane umbridge\n",
      "Data science    Data Analyst\n",
      "1\n",
      "6\n",
      "2\n",
      "['i', 'euro', '']\n",
      "['i', 'euro', '']\n",
      "EDA \n",
      " EDA\n",
      "EDA\n",
      "eXPLORATORY dATA aNALYSIS\n",
      "Iris_flower_Dataset\n",
      "Hello Pam!\n",
      "Hello Pam!\n",
      "I2euro2\n",
      "b'Natural Language Processing'\n",
      "Nemo      \n",
      "      Nemo\n",
      "   Nemo   \n",
      "00000Hello\n"
     ]
    }
   ],
   "source": [
    "print('1234567890'.isdecimal())\n",
    "print('IneuronFullStackDS'.isalnum())\n",
    "print('Ineuron Full Stack Data science'.istitle())\n",
    "print('\"I could eat bananas all day, bananas are my favorite fruit\"'.partition('bananas'))\n",
    "print('\"I could eat bananas all day, bananas are my favorite fruit\"'.rpartition('bananas'))\n",
    "print('GeeksForFreaks'.isidentifier())\n",
    "print(len('Linear Regression'))\n",
    "print('Ineuron'.index('n'))\n",
    "print('Ineuron'.rindex('n'))\n",
    "print(max('Data_Scientist'))\n",
    "print(min('Data_Analyst'))\n",
    "print('Ineuron \\n Full Stack \\n Data Science \\n Course '.splitlines())\n",
    "print('finding nemo'.capitalize())\n",
    "print('datapipelines'.upper())\n",
    "print('MLOPS'.lower())\n",
    "print('Doloris Jane Umbridge'.casefold())\n",
    "print('Data science\\tData Analyst'.expandtabs(8))\n",
    "print('Ineuron'.find('n'))\n",
    "print('Ineuron'.rfind('n'))\n",
    "print('Transformers'.count('s'))\n",
    "print('ineuron'.split('n'))\n",
    "print('ineuron'.rsplit('n'))\n",
    "print(' EDA '.lstrip())\n",
    "print(' EDA '.rstrip())\n",
    "print(' EDA '.strip())\n",
    "print('Exploratory Data Analysis'.swapcase())\n",
    "print('_'.join(['Iris','flower','Dataset']))\n",
    "\n",
    "mydict = {83:  80}\n",
    "print(\"Hello Sam!\".translate(mydict))\n",
    "\n",
    "txt = \"Hello Sam!\"\n",
    "mytable = txt.maketrans(\"S\", \"P\")\n",
    "print(txt.translate(mytable))\n",
    "\n",
    "print('Ineuron'.replace('n','2'))\n",
    "print('Natural Language Processing'.encode())\n",
    "print('Nemo'.ljust(10))\n",
    "print('Nemo'.rjust(10))\n",
    "print('Nemo'.center(10))\n",
    "print('Hello'.zfill(10))"
   ]
  },
  {
   "cell_type": "markdown",
   "id": "5e93e832",
   "metadata": {},
   "source": [
    "Q2. How do the string forms in Python 3.X vary in terms of operations?"
   ]
  },
  {
   "cell_type": "raw",
   "id": "24b5f238",
   "metadata": {},
   "source": [
    "Ans: In Python3 default format of strings is Unicode Whereas in Pyton2 we need to explicitly mention Unicode value using u."
   ]
  },
  {
   "cell_type": "markdown",
   "id": "ced857fd",
   "metadata": {},
   "source": [
    "Q3. In Python 3.X, how do you put non-ASCII Unicode characters in a string?"
   ]
  },
  {
   "cell_type": "markdown",
   "id": "dc72ed42",
   "metadata": {},
   "source": [
    "Ans: In Python 3.x unidecode() method from unidecode library can be used to put non-ASCII Unicode Characters in a string."
   ]
  },
  {
   "cell_type": "code",
   "execution_count": 3,
   "id": "f9f23439",
   "metadata": {},
   "outputs": [
    {
     "name": "stdout",
     "output_type": "stream",
     "text": [
      "kozuscek\n",
      "aap niice apnii bhaassaa aur inputt upkrnn cuneN aur likhnaa aarNbh kreN\n",
      "Xie Xie Ni \n",
      "arigatou. \n",
      "ulybat'sia Vladimir Putin\n"
     ]
    }
   ],
   "source": [
    "from unidecode import unidecode\n",
    "print(unidecode(u'ko\\u017eu\\u0161\\u010dek'))\n",
    "print(unidecode(\"आप नीचे अपनी भाषा और इनपुट उपकरण चुनें और लिखना आरंभ करें\"))\n",
    "print(unidecode(\"谢谢你\"))\n",
    "print(unidecode(\"ありがとう。\"))\n",
    "print(unidecode(\"улыбаться Владимир Путин\"))"
   ]
  },
  {
   "cell_type": "markdown",
   "id": "0200239f",
   "metadata": {},
   "source": [
    "Q4. In Python 3.X, what are the key differences between text-mode and binary-mode files?"
   ]
  },
  {
   "cell_type": "markdown",
   "id": "f20498c6",
   "metadata": {},
   "source": [
    "Ans: The major difference between these two is that a text file contains textual information in the form of alphabets, digits and special characters or symbols. On the other hand, a binary file contains bytes or a compiled version of a text file.\n",
    "\n",
    "When a file is opened in text mode, reading its data automatically decodes its content (as per the platform default or as per provided encoding), and returns it as a str; writing operation takes a str, and automatically encodes it before transferring to the file. Text mode files also support universal end-of-line translation, and encoding specification arguments.\n",
    "\n",
    "When a file is opened in binary mode by adding a b to the mode string argument in the open() call, reading its data does not decode it in any way, and simply returns its content raw and unchanged, as a bytes object; writing takes a bytes object and transfers it to the file unchanged. Binary-mode files also accept a bytearray object for the content to be written to the file."
   ]
  },
  {
   "cell_type": "raw",
   "id": "ec0aa706",
   "metadata": {},
   "source": [
    "Q5. How can you interpret a Unicode text file containing text encoded in a different encoding than your platform's default?"
   ]
  },
  {
   "cell_type": "markdown",
   "id": "4e34ff4f",
   "metadata": {},
   "source": [
    "Ans: Use of encode() and decode() method can be used to you interpret a Unicode text file containing text encoded in a different encoding than your platform's default, by default encoding parameter is UTF-8"
   ]
  },
  {
   "cell_type": "raw",
   "id": "4b513869",
   "metadata": {},
   "source": [
    "Q6. What is the best way to make a Unicode text file in a particular encoding format?"
   ]
  },
  {
   "cell_type": "code",
   "execution_count": null,
   "id": "0496260f",
   "metadata": {},
   "outputs": [],
   "source": [
    "Ans: Use str.encode() and file.write() to make a Unicode text file in a particular encoding format, default encoding format is UTF-18.\n",
    "\n",
    "Call str.encode(encoding) with encoding set to utf8 to encode str.\n",
    "Call open(file, mode) to open a file with mode set to wb . wb writes to files in binary mode & preserves UTF-8format.\n",
    "Call file.write(data) to write data to the file."
   ]
  },
  {
   "cell_type": "code",
   "execution_count": null,
   "id": "fe491c9a",
   "metadata": {},
   "outputs": [],
   "source": [
    "unicode_text = u\"улыбаться Владимир Путин\"\n",
    "encoded_unicode_text = unicode_text.encode(\"utf-8\")\n",
    "print(encoded_unicode_text,end=\"\\n\\n\")\n",
    "\n",
    "w_file = open(\"w_file.txt\",\"wb\")\n",
    "w_file.write(encoded_unicode_text)\n",
    "w_file.close()\n",
    "\n",
    "r_file = open(\"w_file.txt\",\"rb\")\n",
    "data = r_file.read()\n",
    "print(data)"
   ]
  },
  {
   "cell_type": "markdown",
   "id": "4cb2f8fd",
   "metadata": {},
   "source": [
    "Q7. What qualifies ASCII text as a form of Unicode text?"
   ]
  },
  {
   "cell_type": "markdown",
   "id": "85a1b28f",
   "metadata": {},
   "source": [
    "Ans: Unicode represents most written languages in the world. ASCII has its equivalent in Unicode. The difference between ASCII and Unicode is that ASCII represents lowercase letters (a-z), uppercase letters (A-Z), digits (0–9) and symbols such as punctuation marks while Unicode represents letters of English, Arabic, Greek etc. mathematical symbols, historical scripts, emoji covering a wide range of characters than ASCII."
   ]
  },
  {
   "cell_type": "markdown",
   "id": "ee9cf87b",
   "metadata": {},
   "source": [
    "Q8. How much of an effect does the change in string types in Python 3.X have on your code?"
   ]
  },
  {
   "cell_type": "markdown",
   "id": "248610c4",
   "metadata": {},
   "source": [
    "Ans: Python 3 stores strings as Unicode by default whereas Python 2 requires you to mark a string with a u if you want to store it as Unicode. Unicode strings are more versatile than ASCII strings, which are the Python 3.X default, as they can store letters from foreign languages as well as emoji and the standard Roman letters and numerals."
   ]
  },
  {
   "cell_type": "code",
   "execution_count": null,
   "id": "d8072049",
   "metadata": {},
   "outputs": [],
   "source": []
  }
 ],
 "metadata": {
  "kernelspec": {
   "display_name": "Python 3 (ipykernel)",
   "language": "python",
   "name": "python3"
  },
  "language_info": {
   "codemirror_mode": {
    "name": "ipython",
    "version": 3
   },
   "file_extension": ".py",
   "mimetype": "text/x-python",
   "name": "python",
   "nbconvert_exporter": "python",
   "pygments_lexer": "ipython3",
   "version": "3.9.7"
  }
 },
 "nbformat": 4,
 "nbformat_minor": 5
}
